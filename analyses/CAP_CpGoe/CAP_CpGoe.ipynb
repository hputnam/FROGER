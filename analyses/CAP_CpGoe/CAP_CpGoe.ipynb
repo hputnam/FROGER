{
 "cells": [
  {
   "cell_type": "code",
   "execution_count": null,
   "metadata": {
    "collapsed": true
   },
   "outputs": [],
   "source": [
    "#Format CAP chr start end file into bed file "
   ]
  },
  {
   "cell_type": "code",
   "execution_count": 1,
   "metadata": {
    "collapsed": true
   },
   "outputs": [],
   "source": [
    "##first let's look at an example of a bed file"
   ]
  },
  {
   "cell_type": "code",
   "execution_count": 2,
   "metadata": {},
   "outputs": [
    {
     "name": "stdout",
     "output_type": "stream",
     "text": [
      "NC_035780.1\t28\t30\tCG_motif\r\n",
      "NC_035780.1\t54\t56\tCG_motif\r\n",
      "NC_035780.1\t75\t77\tCG_motif\r\n",
      "NC_035780.1\t93\t95\tCG_motif\r\n",
      "NC_035780.1\t103\t105\tCG_motif\r\n",
      "NC_035780.1\t116\t118\tCG_motif\r\n",
      "NC_035780.1\t134\t136\tCG_motif\r\n",
      "NC_035780.1\t159\t161\tCG_motif\r\n",
      "NC_035780.1\t209\t211\tCG_motif\r\n",
      "NC_035780.1\t224\t226\tCG_motif\r\n"
     ]
    }
   ],
   "source": [
    "!head /Users/Shelly/Downloads/C_virginica-3.0_CG-motif.bed"
   ]
  },
  {
   "cell_type": "code",
   "execution_count": 4,
   "metadata": {
    "collapsed": true
   },
   "outputs": [],
   "source": [
    "!cd /Users/Shelly/Documents/GitHub/FROGER/analysis/CAP_CpGoe"
   ]
  },
  {
   "cell_type": "code",
   "execution_count": 5,
   "metadata": {
    "collapsed": true
   },
   "outputs": [],
   "source": [
    "#let's look at CpG OE file"
   ]
  },
  {
   "cell_type": "code",
   "execution_count": 10,
   "metadata": {},
   "outputs": [
    {
     "name": "stdout",
     "output_type": "stream",
     "text": [
      "ID                               CL_1       CL_2       CL_3       CL_4       CL_5       CL_6       CLP_1      CLP_2      CLP_3      CLP_4      CLP_5      CLP_6      CS_1       CS_2       CS_3       CS_5       CS_6       CS_7       DEBY_1     DEBY_2     DEBY_3     DEBY_4     DEBY_5     DEBY_6     HC_1       HC_3       HC_4       HC_5       HC_6       HC_7       HC_VA      HC_VA      HC_VA      HC_VA      HC_VA      HC_VA      HG_HG0F2   HG_HG2F1   HG_HG2M5   HI_1       HI_2       HI_3       HI_4       HI_5       HI_6       LM_1       LM_3       LM_4       LM_7       LM_8       LOLA_1     LOLA_2     LOLA_3     LOLA_4     LOLA_5     LOLA_6     NEH_1      NEH_2      NEH_3      NEH_4      NEH_5      NEH_6      NG_NH0H4   NG_NH2F6   NG_NH2F8   NG_NH2M1   OBOYS2_1   OBOYS2_2   OBOYS2_3   OBOYS2_4   OBOYS2_5   OBOYS2_6   SL_1       SL_2       SL_3       SL_4       SL_5       SL_6       SM_10      SM_11      SM_12      SM_7       SM_8       SM_9       UMFS_1     UMFS_2     UMFS_3     UMFS_4     UMFS_5     UMFS_6\r\n",
      "NC_035780.1:13577-14594          0.232819   0.232819   0.232819   0.232819   0.232819   0.232819   0.232819   0.232819   0.232819   0.232819   0.232819   0.232819   0.232819   0.232819   0.232819   0.232819   0.232819   0.232819   0.232819   0.232819   0.232819   0.232819   0.232819   0.232819   0.232819   0.232819   0.232819   0.232819   0.232819   0.232819   0.232819   0.232819   0.232819   0.232819   0.232819   0.232819   0.232819   0.232819   0.232819   0.232819   0.232819   0.232819   0.232819   0.232819   0.232819   0.232819   0.232819   0.232819   0.232819   0.232819   0.232819   0.232819   0.232819   0.232819   0.232819   0.232819   0.232819   0.232819   0.232819   0.232819   0.232819   0.232819   0.232819   0.232819   0.232819   0.232819   0.232819   0.232819   0.232819   0.232819   0.232819   0.232819   0.232819   0.232819   0.232819   0.232819   0.232819   0.232819   0.232819   0.232819   0.232819   0.232819   0.232819   0.232819   0.232819   0.232819   0.232819   0.232819   0.232819   0.232819\r\n",
      "NC_035780.1:28960-33324          0.753046   0.754768   0.754768   0.748427   0.74768    0.750129   0.731475   0.757759   0.750074   0.750443   0.727971   0.737621   0.742985   0.742007   0.746645   0.742985   0.748723   0.740491   0.727072   0.731687   0.739515   0.740545   0.741469   0.728892   0.740391   0.727009   0.751997   0.727009   0.751433   0.733168   0.743042   0.743325   0.743325   0.742345   0.749502   0.746748   0.742007   0.733109   0.741032   0.752989   0.735137   0.746748   0.732263   0.742007   0.727009   0.751894   0.746196   0.753824   0.754981   0.754768   0.743998   0.751062   0.755762   0.741032   0.757759   0.738542   0.750956   0.749658   0.739465   0.742007   0.743227   0.750443   0.750595   0.752476   0.749658   0.752476   0.750956   0.753824   0.754924   0.753928   0.752833   0.752883   0.750956   0.748668   0.753776   0.752833   0.750397   0.75472    0.747579   0.737728   0.736982   0.727009   0.741417   0.74044    0.735242   0.767858   0.752989   0.752989   0.752989   0.752935\r\n",
      "NC_035780.1:43110-66897          0.581617   0.573929   0.576619   0.578198   0.578655   0.577559   0.577054   0.575026   0.578718   0.572051   0.579289   0.575232   0.584962   0.582155   0.571088   0.576496   0.58233    0.577993   0.579593   0.572154   0.580575   0.571661   0.57502    0.57266    0.575642   0.575158   0.574103   0.578847   0.574241   0.568111   0.57703    0.570173   0.570388   0.572399   0.582892   0.576766   0.574552   0.572801   0.571707   0.578104   0.578916   0.573417   0.579382   0.575846   0.578847   0.570949   0.57729    0.57167    0.57645    0.576409   0.583312   0.5849     0.580384   0.580939   0.574045   0.57526    0.576055   0.574725   0.577736   0.572051   0.577549   0.577667   0.574448   0.571947   0.573182   0.572051   0.581346   0.575962   0.577395   0.575587   0.577834   0.57354    0.576485   0.572779   0.58145    0.576859   0.579598   0.575416   0.575521   0.568891   0.577651   0.577531   0.581868   0.575835   0.572155   0.573893   0.571947   0.577053   0.576975   0.56917\r\n",
      "NC_035780.1:85605-95254          0.971701   0.949788   0.947614   0.940996   0.957137   0.961411   0.932536   0.945814   0.938579   0.925075   0.94312    0.939123   0.936854   0.934047   0.948663   0.934685   0.948629   0.946956   0.939075   0.938078   0.932454   0.936434   0.931827   0.94135    0.935151   0.940252   0.941985   0.945896   0.939886   0.945889   0.946548   0.934109   0.934013   0.945113   0.953888   0.94465    0.934145   0.929622   0.940965   0.945842   0.918945   0.93261    0.93917    0.932908   0.936385   0.941972   0.957725   0.953266   0.944344   0.958747   0.938633   0.933304   0.936518   0.942664   0.948182   0.943005   0.94076    0.93684    0.931265   0.946003   0.929565   0.933387   0.938557   0.940889   0.93917    0.940236   0.943668   0.945489   0.955993   0.941488   0.973988   0.954269   0.959371   0.963239   0.935212   0.934693   0.949231   0.937699   0.932414   0.937444   0.938603   0.951516   0.939054   0.922647   0.943484   0.954227   0.944784   0.944262   0.954866   0.938084\r\n",
      "NC_035780.1:99839-106460         0.389751   0.372031   0.392151   0.390466   0.377567   0.400951   0.376222   0.395662   0.383362   0.364865   0.372761   0.385386   0.373961   0.380754   0.37004    0.378773   0.385692   0.373445   0.391427   0.399994   0.374558   0.394329   0.399547   0.388819   0.396612   0.391091   0.380745   0.383313   0.378628   0.36664    0.377945   0.389974   0.396003   0.380745   0.370902   0.384078   0.381433   0.384014   0.381082   0.398058   0.372786   0.394305   0.381737   0.382091   0.381082   0.385578   0.386691   0.372672   0.369081   0.382803   0.378145   0.370849   0.361074   0.379846   0.396421   0.372747   0.390313   0.395111   0.388623   0.388287   0.388571   0.387108   0.39843    0.394138   0.399386   0.394744   0.379568   0.379777   0.382653   0.373663   0.369285   0.372352   0.373663   0.36314    0.380499   0.383833   0.385642   0.36274    0.388571   0.379101   0.392176   0.383926   0.379006   0.388907   0.388907   0.385206   0.390002   0.389325   0.395481   0.398197\r\n",
      "NC_035780.1:108304-110077        0.62723    0.637801   0.636311   0.648178   0.612293   0.624202   0.648042   0.609364   0.636106   0.627147   0.613569   0.634747   0.636106   0.614886   0.634609   0.613429   0.612115   0.63761    0.613429   0.623929   0.63761    0.612115   0.619649   0.613429   0.612115   0.613429   0.619649   0.612115   0.636106   0.636106   0.613429   0.614886   0.613429   0.611979   0.636106   0.612115   0.614748   0.613429   0.614886   0.634747   0.613429   0.613429   0.612115   0.613429   0.612115   0.624202   0.619837   0.63042    0.627014   0.620601   0.611979   0.62154    0.625671   0.628943   0.64666    0.636106   0.636106   0.634747   0.636106   0.613429   0.636106   0.63761    0.634747   0.634747   0.634747   0.634747   0.636444   0.645284   0.639299   0.642314   0.610982   0.613724   0.606246   0.62723    0.639299   0.63042    0.631903   0.631767   0.614886   0.613429   0.611979   0.613429   0.636106   0.620978   0.613429   0.634747   0.634747   0.634747   0.634747   0.634747\r\n",
      "NC_035780.1:151858-157536        0.814864   0.825802   0.825695   0.815207   0.811589   0.828985   0.817106   0.810251   0.811689   0.821734   0.811084   0.820309   0.808467   0.810289   0.807824   0.813385   0.805267   0.821038   0.80994    0.814935   0.80994    0.817301   0.810215   0.811006   0.810289   0.810328   0.807824   0.82442    0.816577   0.81882    0.80854    0.809258   0.811006   0.809534   0.81097    0.804818   0.811045   0.803414   0.804972   0.821073   0.814141   0.799177   0.814214   0.81097    0.814177   0.829104   0.832006   0.827305   0.835186   0.8315     0.811264   0.820309   0.828879   0.827268   0.823535   0.813456   0.813204   0.810368   0.813241   0.809534   0.808066   0.811006   0.819656   0.813456   0.804893   0.806357   0.816455   0.813167   0.813963   0.811045   0.818856   0.824913   0.831159   0.825981   0.830494   0.827342   0.827409   0.828813   0.824997   0.815733   0.807109   0.814141   0.814899   0.809185   0.81806    0.815622   0.812737   0.810289   0.821038   0.820309\r\n",
      "NC_035780.1:163808-183798        0.811461   0.811231   0.809838   0.815716   0.812177   0.809137   0.807933   0.806283   0.798872   0.802298   0.799422   0.797765   0.801527   0.800108   0.800611   0.802717   0.806981   0.800839   0.805098   0.803942   0.804139   0.80579    0.806485   0.811711   0.803214   0.801338   0.805334   0.804149   0.802258   0.806722   0.80153    0.801074   0.802522   0.804608   0.80675    0.798451   0.812179   0.811694   0.812409   0.799878   0.803877   0.797539   0.804606   0.805567   0.80249    0.813603   0.814537   0.810782   0.81196    0.810315   0.803182   0.813368   0.808671   0.812889   0.801338   0.802951   0.802685   0.79946    0.804381   0.805105   0.802961   0.803681   0.80042    0.801835   0.801341   0.802528   0.815003   0.810044   0.813827   0.806514   0.810296   0.818769   0.813359   0.808417   0.810549   0.8103     0.802025   0.808648   0.803425   0.802959   0.80556    0.802691   0.801303   0.799693   0.801763   0.798229   0.797308   0.79896    0.800799   0.800378\r\n",
      "NC_035780.1:164819-166793        0.532625   0.532625   0.532625   0.532625   0.532625   0.532625   0.532625   0.532625   0.532625   0.532625   0.532625   0.532625   0.532625   0.532625   0.532625   0.532625   0.532625   0.532625   0.532625   0.532625   0.532625   0.532625   0.532625   0.532625   0.532625   0.532625   0.532625   0.532625   0.532625   0.532625   0.532625   0.532625   0.532625   0.532625   0.532625   0.532625   0.532625   0.532625   0.532625   0.532625   0.532625   0.532625   0.532625   0.532625   0.532625   0.532625   0.532625   0.532625   0.532625   0.532625   0.532625   0.532625   0.532625   0.532625   0.532625   0.532625   0.532625   0.532625   0.532625   0.532625   0.532625   0.532625   0.532625   0.532625   0.532625   0.532625   0.532625   0.532625   0.532625   0.532625   0.532625   0.532625   0.532625   0.532625   0.532625   0.532625   0.532625   0.532625   0.532625   0.532625   0.532625   0.532625   0.532625   0.532625   0.532625   0.532625   0.532625   0.532625   0.532625   0.532625\r\n"
     ]
    }
   ],
   "source": [
    "!head /Users/Shelly/Documents/GitHub/FROGER/analysis/CAP_CpGoe/ID_CpG_labelled_all"
   ]
  },
  {
   "cell_type": "code",
   "execution_count": null,
   "metadata": {
    "collapsed": true
   },
   "outputs": [],
   "source": [
    "# extract chromosome, start position, and end position from ID colummn of CpG oe data\n",
    "#first test if the code works with head"
   ]
  },
  {
   "cell_type": "code",
   "execution_count": 11,
   "metadata": {},
   "outputs": [
    {
     "name": "stdout",
     "output_type": "stream",
     "text": [
      "ID\r\n",
      "NC_035780.1\t13577\t14594\r\n",
      "NC_035780.1\t28960\t33324\r\n",
      "NC_035780.1\t43110\t66897\r\n",
      "NC_035780.1\t85605\t95254\r\n",
      "NC_035780.1\t99839\t106460\r\n",
      "NC_035780.1\t108304\t110077\r\n",
      "NC_035780.1\t151858\t157536\r\n",
      "NC_035780.1\t163808\t183798\r\n",
      "NC_035780.1\t164819\t166793\r\n"
     ]
    }
   ],
   "source": [
    "!cat /Users/Shelly/Documents/GitHub/FROGER/analysis/CAP_CpGoe/ID_CpG_labelled_all | \\\n",
    "awk '{print $1}' | \\\n",
    "tr ':' '\\t' | \\\n",
    "tr '-' '\\t' | \\\n",
    "head"
   ]
  },
  {
   "cell_type": "code",
   "execution_count": null,
   "metadata": {
    "collapsed": true
   },
   "outputs": [],
   "source": [
    "# the code works so make a new file with it\n"
   ]
  },
  {
   "cell_type": "code",
   "execution_count": 14,
   "metadata": {
    "collapsed": true
   },
   "outputs": [],
   "source": [
    "!cat /Users/Shelly/Documents/GitHub/FROGER/analysis/CAP_CpGoe/ID_CpG_labelled_all | \\\n",
    "awk '{print $1}' | \\\n",
    "tr ':' '\\t' | \\\n",
    "tr '-' '\\t' | \\\n",
    "awk '{print $0\"\\t\"\"CpGoe_gene\"}' \\\n",
    "> CpGoe_ID_start_end"
   ]
  },
  {
   "cell_type": "code",
   "execution_count": 16,
   "metadata": {},
   "outputs": [
    {
     "name": "stdout",
     "output_type": "stream",
     "text": [
      "ID\tCpGoe_gene\r\n",
      "NC_035780.1\t13577\t14594\tCpGoe_gene\r\n",
      "NC_035780.1\t28960\t33324\tCpGoe_gene\r\n",
      "NC_035780.1\t43110\t66897\tCpGoe_gene\r\n",
      "NC_035780.1\t85605\t95254\tCpGoe_gene\r\n",
      "NC_035780.1\t99839\t106460\tCpGoe_gene\r\n",
      "NC_035780.1\t108304\t110077\tCpGoe_gene\r\n",
      "NC_035780.1\t151858\t157536\tCpGoe_gene\r\n",
      "NC_035780.1\t163808\t183798\tCpGoe_gene\r\n",
      "NC_035780.1\t164819\t166793\tCpGoe_gene\r\n"
     ]
    }
   ],
   "source": [
    "!head CpGoe_ID_start_end"
   ]
  },
  {
   "cell_type": "code",
   "execution_count": 18,
   "metadata": {},
   "outputs": [
    {
     "name": "stdout",
     "output_type": "stream",
     "text": [
      "   38930 CpGoe_ID_start_end\r\n"
     ]
    }
   ],
   "source": [
    "!wc -l CpGoe_ID_start_end"
   ]
  },
  {
   "cell_type": "code",
   "execution_count": 19,
   "metadata": {},
   "outputs": [
    {
     "data": {
      "text/plain": [
       "'/Users/Shelly/Documents/GitHub/FROGER/analysis/CAP_CpGoe'"
      ]
     },
     "execution_count": 19,
     "metadata": {},
     "output_type": "execute_result"
    }
   ],
   "source": [
    "pwd"
   ]
  },
  {
   "cell_type": "code",
   "execution_count": 20,
   "metadata": {
    "collapsed": true
   },
   "outputs": [],
   "source": [
    "!tail -38929 CpGoe_ID_start_end > CpGoe.bed"
   ]
  },
  {
   "cell_type": "code",
   "execution_count": 22,
   "metadata": {},
   "outputs": [
    {
     "name": "stdout",
     "output_type": "stream",
     "text": [
      "NC_035780.1\t13577\t14594\tCpGoe_gene\r\n",
      "NC_035780.1\t28960\t33324\tCpGoe_gene\r\n",
      "NC_035780.1\t43110\t66897\tCpGoe_gene\r\n",
      "NC_035780.1\t85605\t95254\tCpGoe_gene\r\n",
      "NC_035780.1\t99839\t106460\tCpGoe_gene\r\n",
      "NC_035780.1\t108304\t110077\tCpGoe_gene\r\n",
      "NC_035780.1\t151858\t157536\tCpGoe_gene\r\n",
      "NC_035780.1\t163808\t183798\tCpGoe_gene\r\n",
      "NC_035780.1\t164819\t166793\tCpGoe_gene\r\n",
      "NC_035780.1\t169467\t170178\tCpGoe_gene\r\n"
     ]
    }
   ],
   "source": [
    "!head CpGoe.bed"
   ]
  },
  {
   "cell_type": "code",
   "execution_count": null,
   "metadata": {
    "collapsed": true
   },
   "outputs": [],
   "source": [
    "#sort the CpGoe.bed file"
   ]
  },
  {
   "cell_type": "code",
   "execution_count": 10,
   "metadata": {
    "collapsed": true
   },
   "outputs": [],
   "source": [
    "!sort -k1,1 -k2,2n -k3,3n CpGoe.bed > CpGoe_sorted.bed"
   ]
  },
  {
   "cell_type": "code",
   "execution_count": 11,
   "metadata": {
    "collapsed": true
   },
   "outputs": [],
   "source": [
    "!awk -F\"\\t\" '{if($3<$2)print $1}' CpGoe_sorted.bed | head"
   ]
  },
  {
   "cell_type": "code",
   "execution_count": 24,
   "metadata": {
    "scrolled": false
   },
   "outputs": [
    {
     "name": "stdout",
     "output_type": "stream",
     "text": [
      "NC_035780.1\t451086\t446144\tperoxisome proliferator-activated receptor delta-like \r\n",
      "NC_035780.1\t995276\t985090\tSWI/SNF complex subunit SMARCC2-like \r\n",
      "NC_035780.1\t2590703\t2554484\tRNA polymerase-associated protein CTR9 homolog \r\n",
      "NC_035780.1\t3564501\t3559575\tTNF receptor-associated factor 6-like isoform X1 \r\n",
      "NC_035780.1\t4690300\t4694341\tTNF receptor-associated factor 6-like isoform X1 \r\n",
      "NC_035780.1\t7016473\t7018475\tLOW QUALITY PROTEIN: SAM pointed domain-containing Ets transcription factor-like \r\n",
      "NC_035780.1\t7067853\t7070493\tLOW QUALITY PROTEIN: DNA-binding protein D-ETS-4-like \r\n",
      "NC_035780.1\t8189970\t8194323\tcyclic AMP-dependent transcription factor ATF-7-like \r\n",
      "NC_035780.1\t8261697\t8286565\tLOW QUALITY PROTEIN: bromodomain adjacent to zinc finger domain protein 2B-like \r\n",
      "NC_035780.1\t9701200\t9731966\tzinc finger protein GLI4-like \r\n"
     ]
    }
   ],
   "source": [
    "!head CAP.bed"
   ]
  },
  {
   "cell_type": "code",
   "execution_count": null,
   "metadata": {
    "collapsed": true
   },
   "outputs": [],
   "source": [
    "#need to sort CAP.bed file so that start position is always a smaller number than the end position; we could have included strand info but it's easier to just sort the file like that"
   ]
  },
  {
   "cell_type": "code",
   "execution_count": 7,
   "metadata": {
    "collapsed": true
   },
   "outputs": [],
   "source": [
    "!awk -F\"\\t\" '{if($3<$2)print $1\"\\t\"$3\"\\t\"$2\"\\t\"$4;else print $0}' CAP.bed | sort -k1,1 -k2,2n -k3,3n > CAP_sorted.bed"
   ]
  },
  {
   "cell_type": "code",
   "execution_count": 9,
   "metadata": {},
   "outputs": [
    {
     "name": "stdout",
     "output_type": "stream",
     "text": [
      "NC_035780.1\t446144\t451086\tperoxisome proliferator-activated receptor delta-like \r\n",
      "NC_035780.1\t985090\t995276\tSWI/SNF complex subunit SMARCC2-like \r\n",
      "NC_035780.1\t2554484\t2590703\tRNA polymerase-associated protein CTR9 homolog \r\n",
      "NC_035780.1\t3559575\t3564501\tTNF receptor-associated factor 6-like isoform X1 \r\n",
      "NC_035780.1\t4690300\t4694341\tTNF receptor-associated factor 6-like isoform X1 \r\n",
      "NC_035780.1\t7016473\t7018475\tLOW QUALITY PROTEIN: SAM pointed domain-containing Ets transcription factor-like \r\n",
      "NC_035780.1\t7067853\t7070493\tLOW QUALITY PROTEIN: DNA-binding protein D-ETS-4-like \r\n",
      "NC_035780.1\t7387788\t7406899\tHDMs\r\n",
      "NC_035780.1\t8189970\t8194323\tcyclic AMP-dependent transcription factor ATF-7-like \r\n",
      "NC_035780.1\t8261697\t8286565\tLOW QUALITY PROTEIN: bromodomain adjacent to zinc finger domain protein 2B-like \r\n"
     ]
    }
   ],
   "source": [
    "!head CAP_sorted.bed"
   ]
  },
  {
   "cell_type": "code",
   "execution_count": 25,
   "metadata": {
    "collapsed": true
   },
   "outputs": [],
   "source": [
    "!which bedtools"
   ]
  },
  {
   "cell_type": "code",
   "execution_count": null,
   "metadata": {
    "collapsed": true
   },
   "outputs": [],
   "source": [
    "#nothing came up so I need to install bedtools on my local computer"
   ]
  },
  {
   "cell_type": "code",
   "execution_count": 12,
   "metadata": {
    "collapsed": true
   },
   "outputs": [],
   "source": [
    "#conda install -c bioconda bedtools \n",
    "#did this from command line"
   ]
  },
  {
   "cell_type": "code",
   "execution_count": null,
   "metadata": {
    "collapsed": true
   },
   "outputs": [],
   "source": [
    "#-D tells us the distance of match from genes"
   ]
  },
  {
   "cell_type": "code",
   "execution_count": 13,
   "metadata": {
    "collapsed": true
   },
   "outputs": [],
   "source": [
    "!bedtools closest -a CAP_sorted.bed -b CpGoe_sorted.bed -D b > CAP_CpGoe_bed.out"
   ]
  },
  {
   "cell_type": "code",
   "execution_count": 18,
   "metadata": {},
   "outputs": [
    {
     "name": "stdout",
     "output_type": "stream",
     "text": [
      "     499 CAP_sorted.bed\r\n"
     ]
    }
   ],
   "source": [
    "!wc -l CAP_sorted.bed"
   ]
  },
  {
   "cell_type": "code",
   "execution_count": 19,
   "metadata": {},
   "outputs": [
    {
     "name": "stdout",
     "output_type": "stream",
     "text": [
      "   38929 CpGoe_sorted.bed\r\n"
     ]
    }
   ],
   "source": [
    "!wc -l CpGoe_sorted.bed"
   ]
  },
  {
   "cell_type": "code",
   "execution_count": 14,
   "metadata": {},
   "outputs": [
    {
     "name": "stdout",
     "output_type": "stream",
     "text": [
      "NC_035780.1\t446144\t451086\tperoxisome proliferator-activated receptor delta-like \tNC_035780.1\t444906\t453310\tCpGoe_gene\t0\n",
      "NC_035780.1\t985090\t995276\tSWI/SNF complex subunit SMARCC2-like \tNC_035780.1\t984470\t995318\tCpGoe_gene\t0\n",
      "NC_035780.1\t2554484\t2590703\tRNA polymerase-associated protein CTR9 homolog \tNC_035780.1\t2554180\t2599559\tCpGoe_gene\t0\n",
      "NC_035780.1\t3559575\t3564501\tTNF receptor-associated factor 6-like isoform X1 \tNC_035780.1\t3559447\t3572274\tCpGoe_gene\t0\n",
      "NC_035780.1\t4690300\t4694341\tTNF receptor-associated factor 6-like isoform X1 \tNC_035780.1\t4681703\t4694463\tCpGoe_gene\t0\n",
      "NC_035780.1\t7016473\t7018475\tLOW QUALITY PROTEIN: SAM pointed domain-containing Ets transcription factor-like \tNC_035780.1\t7016303\t7018499\tCpGoe_gene\t0\n",
      "NC_035780.1\t7067853\t7070493\tLOW QUALITY PROTEIN: DNA-binding protein D-ETS-4-like \tNC_035780.1\t7067803\t7070871\tCpGoe_gene\t0\n",
      "NC_035780.1\t7387788\t7406899\tHDMs\tNC_035780.1\t7386722\t7414898\tCpGoe_gene\t0\n",
      "NC_035780.1\t8189970\t8194323\tcyclic AMP-dependent transcription factor ATF-7-like \tNC_035780.1\t8189590\t8196705\tCpGoe_gene\t0\n",
      "NC_035780.1\t8261697\t8286565\tLOW QUALITY PROTEIN: bromodomain adjacent to zinc finger domain protein 2B-like \tNC_035780.1\t8260033\t8287945\tCpGoe_gene\t0\n"
     ]
    }
   ],
   "source": [
    "!head CAP_CpGoe_bed.out"
   ]
  },
  {
   "cell_type": "code",
   "execution_count": 21,
   "metadata": {},
   "outputs": [
    {
     "name": "stdout",
     "output_type": "stream",
     "text": [
      "     579 CAP_CpGoe_bed.out\r\n"
     ]
    }
   ],
   "source": [
    "!wc -l CAP_CpGoe_bed.out"
   ]
  },
  {
   "cell_type": "code",
   "execution_count": null,
   "metadata": {
    "collapsed": true
   },
   "outputs": [],
   "source": [
    "#find CAP coordinates that are found within multiple CpGoe gene coordinates"
   ]
  },
  {
   "cell_type": "code",
   "execution_count": 25,
   "metadata": {},
   "outputs": [
    {
     "name": "stdout",
     "output_type": "stream",
     "text": [
      "   8 NC_035787.1_46241576_46353197\r\n",
      "   8 NC_035787.1_46241576_46353097\r\n",
      "   8 NC_035784.1_81576166_81688825\r\n",
      "   4 NC_035786.1_22199573_22210502\r\n",
      "   4 NC_035784.1_88211485_88233595\r\n",
      "   3 NC_035788.1_13040259_13060569\r\n",
      "   3 NC_035787.1_47441091_47463146\r\n",
      "   3 NC_035784.1_88156801_88165944\r\n",
      "   3 NC_035784.1_62250510_62275796\r\n",
      "   3 NC_035783.1_59109917_59182217\r\n"
     ]
    }
   ],
   "source": [
    "!awk -F\"\\t\" '{print $1\"_\"$2\"_\"$3}' CAP_CpGoe_bed.out| sort | uniq -c | sort -rn | head"
   ]
  },
  {
   "cell_type": "code",
   "execution_count": null,
   "metadata": {
    "collapsed": true
   },
   "outputs": [],
   "source": [
    "#count the number of CAP coordinates that are found within multiple CpGoe genes"
   ]
  },
  {
   "cell_type": "code",
   "execution_count": 26,
   "metadata": {},
   "outputs": [
    {
     "name": "stdout",
     "output_type": "stream",
     "text": [
      "      54\r\n"
     ]
    }
   ],
   "source": [
    "!awk -F\"\\t\" '{print $1\"_\"$2\"_\"$3}' CAP_CpGoe_bed.out| \\\n",
    "sort | uniq -c | sort -rn | awk '{if($1>1)print $0}' | \\\n",
    "wc -l"
   ]
  },
  {
   "cell_type": "code",
   "execution_count": null,
   "metadata": {
    "collapsed": true
   },
   "outputs": [],
   "source": [
    "#check how many CAP coordinates are within a gene; how many have 0 at the end of the line"
   ]
  },
  {
   "cell_type": "code",
   "execution_count": 22,
   "metadata": {},
   "outputs": [
    {
     "name": "stdout",
     "output_type": "stream",
     "text": [
      "     565\r\n"
     ]
    }
   ],
   "source": [
    "!awk -F\"\\t\" '{if($9 ==0)print $0}' CAP_CpGoe_bed.out | wc -l"
   ]
  },
  {
   "cell_type": "code",
   "execution_count": null,
   "metadata": {
    "collapsed": true
   },
   "outputs": [],
   "source": [
    "#bedtools closest found 445 CAPs that overlap once with CpGoe genes. "
   ]
  },
  {
   "cell_type": "code",
   "execution_count": 27,
   "metadata": {},
   "outputs": [
    {
     "name": "stdout",
     "output_type": "stream",
     "text": [
      "      14\r\n"
     ]
    }
   ],
   "source": [
    "!awk -F\"\\t\" '{if($9 !=0)print $0}' CAP_CpGoe_bed.out | wc -l"
   ]
  },
  {
   "cell_type": "code",
   "execution_count": null,
   "metadata": {
    "collapsed": true
   },
   "outputs": [],
   "source": [
    "#print the chromosome, the start, the end, the description, and the distance from the nearest gene "
   ]
  },
  {
   "cell_type": "code",
   "execution_count": 33,
   "metadata": {},
   "outputs": [
    {
     "name": "stdout",
     "output_type": "stream",
     "text": [
      "NC_035781.1\t15140506\t15140832\tH2B\t79\r\n",
      "NC_035781.1\t15152848\t15153372\tH1\t-429\r\n",
      "NC_035781.1\t15162194\t15162661\tH1\t-429\r\n",
      "NC_035781.1\t38964965\t38965333\tH2B\t-366\r\n",
      "NC_035781.1\t38972550\t38972645\tH2B\t-3002\r\n",
      "NC_035781.1\t38972634\t38972792\tH2B\t-3086\r\n",
      "NC_035781.1\t39871546\t39871767\tH2B\t3080\r\n",
      "NC_035781.1\t39871756\t39871851\tH2B\t2996\r\n",
      "NC_035783.1\t53711267\t53714541\tH2B\t5539\r\n",
      "NC_035783.1\t54765049\t54765150\tH2Bpart\t-3139\r\n",
      "NC_035784.1\t46799737\t46800018\tH4part\t-2432\r\n",
      "NC_035784.1\t46802924\t46803148\tH4part\t962\r\n",
      "NC_035784.1\t47863833\t47863898\tcenH3part\t-25896\r\n",
      "NC_035784.1\t47867446\t47867571\tcenH3part\t-29509\r\n"
     ]
    }
   ],
   "source": [
    "!awk -F\"\\t\" '{if($9 !=0)print $1\"\\t\"$2\"\\t\"$3\"\\t\"$4\"\\t\"$9}' CAP_CpGoe_bed.out"
   ]
  },
  {
   "cell_type": "code",
   "execution_count": null,
   "metadata": {
    "collapsed": true
   },
   "outputs": [],
   "source": [
    "#very few CAPs map not within CpGoe genes but \"near\" (within 5000kb of) CpGoe genes"
   ]
  },
  {
   "cell_type": "code",
   "execution_count": null,
   "metadata": {
    "collapsed": true
   },
   "outputs": [],
   "source": [
    "#check what the distance is for all CAP lines"
   ]
  },
  {
   "cell_type": "code",
   "execution_count": 17,
   "metadata": {},
   "outputs": [
    {
     "name": "stdout",
     "output_type": "stream",
     "text": [
      " 231 0\r\n"
     ]
    }
   ],
   "source": [
    "!awk '{if($9 ==0)print $9}' CAP_CpGoe_bed.out | sort | uniq -c"
   ]
  },
  {
   "cell_type": "code",
   "execution_count": null,
   "metadata": {
    "collapsed": true
   },
   "outputs": [],
   "source": [
    "#run bedtools intersect to get the best matches because this command will tell us how much is overlapping"
   ]
  },
  {
   "cell_type": "code",
   "execution_count": 28,
   "metadata": {
    "collapsed": true
   },
   "outputs": [],
   "source": [
    "!bedtools intersect -a CAP_sorted.bed -b CpGoe_sorted.bed -wao > CAP_CpGoe_bed_intersect.out"
   ]
  },
  {
   "cell_type": "code",
   "execution_count": 29,
   "metadata": {},
   "outputs": [
    {
     "name": "stdout",
     "output_type": "stream",
     "text": [
      "NC_035780.1\t446144\t451086\tperoxisome proliferator-activated receptor delta-like \tNC_035780.1\t444906\t453310\tCpGoe_gene\t4942\r\n",
      "NC_035780.1\t985090\t995276\tSWI/SNF complex subunit SMARCC2-like \tNC_035780.1\t984470\t995318\tCpGoe_gene\t10186\r\n",
      "NC_035780.1\t2554484\t2590703\tRNA polymerase-associated protein CTR9 homolog \tNC_035780.1\t2554180\t2599559\tCpGoe_gene\t36219\r\n",
      "NC_035780.1\t3559575\t3564501\tTNF receptor-associated factor 6-like isoform X1 \tNC_035780.1\t3559447\t3572274\tCpGoe_gene\t4926\r\n",
      "NC_035780.1\t4690300\t4694341\tTNF receptor-associated factor 6-like isoform X1 \tNC_035780.1\t4681703\t4694463\tCpGoe_gene\t4041\r\n",
      "NC_035780.1\t7016473\t7018475\tLOW QUALITY PROTEIN: SAM pointed domain-containing Ets transcription factor-like \tNC_035780.1\t7016303\t7018499\tCpGoe_gene\t2002\r\n",
      "NC_035780.1\t7067853\t7070493\tLOW QUALITY PROTEIN: DNA-binding protein D-ETS-4-like \tNC_035780.1\t7067803\t7070871\tCpGoe_gene\t2640\r\n",
      "NC_035780.1\t7387788\t7406899\tHDMs\tNC_035780.1\t7386722\t7414898\tCpGoe_gene\t19111\r\n",
      "NC_035780.1\t8189970\t8194323\tcyclic AMP-dependent transcription factor ATF-7-like \tNC_035780.1\t8189590\t8196705\tCpGoe_gene\t4353\r\n",
      "NC_035780.1\t8261697\t8286565\tLOW QUALITY PROTEIN: bromodomain adjacent to zinc finger domain protein 2B-like \tNC_035780.1\t8260033\t8287945\tCpGoe_gene\t24868\r\n"
     ]
    }
   ],
   "source": [
    "!head CAP_CpGoe_bed_intersect.out"
   ]
  },
  {
   "cell_type": "code",
   "execution_count": 30,
   "metadata": {},
   "outputs": [
    {
     "name": "stdout",
     "output_type": "stream",
     "text": [
      "     579 CAP_CpGoe_bed_intersect.out\r\n"
     ]
    }
   ],
   "source": [
    "!wc -l CAP_CpGoe_bed_intersect.out"
   ]
  },
  {
   "cell_type": "code",
   "execution_count": 34,
   "metadata": {},
   "outputs": [
    {
     "name": "stdout",
     "output_type": "stream",
     "text": [
      "NC_035781.1\t15140506\t15140832\tH2B\t.\t-1\t-1\t.\t0\r\n",
      "NC_035781.1\t15152848\t15153372\tH1\t.\t-1\t-1\t.\t0\r\n",
      "NC_035781.1\t15162194\t15162661\tH1\t.\t-1\t-1\t.\t0\r\n",
      "NC_035781.1\t38964965\t38965333\tH2B\t.\t-1\t-1\t.\t0\r\n",
      "NC_035781.1\t38972550\t38972645\tH2B\t.\t-1\t-1\t.\t0\r\n",
      "NC_035781.1\t38972634\t38972792\tH2B\t.\t-1\t-1\t.\t0\r\n",
      "NC_035781.1\t39871546\t39871767\tH2B\t.\t-1\t-1\t.\t0\r\n",
      "NC_035781.1\t39871756\t39871851\tH2B\t.\t-1\t-1\t.\t0\r\n",
      "NC_035783.1\t53711267\t53714541\tH2B\t.\t-1\t-1\t.\t0\r\n",
      "NC_035783.1\t54765049\t54765150\tH2Bpart\t.\t-1\t-1\t.\t0\r\n"
     ]
    }
   ],
   "source": [
    "!awk -F\"\\t\" '{if($9 == 0)print $0}' CAP_CpGoe_bed_intersect.out | head"
   ]
  },
  {
   "cell_type": "code",
   "execution_count": 35,
   "metadata": {},
   "outputs": [
    {
     "name": "stdout",
     "output_type": "stream",
     "text": [
      "      14\r\n"
     ]
    }
   ],
   "source": [
    "!awk -F\"\\t\" '{if($9 == 0)print $0}' CAP_CpGoe_bed_intersect.out | wc -l"
   ]
  },
  {
   "cell_type": "code",
   "execution_count": null,
   "metadata": {
    "collapsed": true
   },
   "outputs": [],
   "source": [
    "#we decided to use the intersect output, exclude CAPs that do not overlap with CpG oe genes, and only include CAPs with the largest overlap with CpG oe genes. We are going to wait for "
   ]
  },
  {
   "cell_type": "code",
   "execution_count": null,
   "metadata": {
    "collapsed": true
   },
   "outputs": [],
   "source": []
  }
 ],
 "metadata": {
  "kernelspec": {
   "display_name": "Python 3",
   "language": "python",
   "name": "python3"
  },
  "language_info": {
   "codemirror_mode": {
    "name": "ipython",
    "version": 3
   },
   "file_extension": ".py",
   "mimetype": "text/x-python",
   "name": "python",
   "nbconvert_exporter": "python",
   "pygments_lexer": "ipython3",
   "version": "3.6.8"
  }
 },
 "nbformat": 4,
 "nbformat_minor": 2
}
